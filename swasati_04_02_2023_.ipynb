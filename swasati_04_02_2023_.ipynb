{
  "nbformat": 4,
  "nbformat_minor": 0,
  "metadata": {
    "colab": {
      "provenance": [],
      "authorship_tag": "ABX9TyNcOO78pPeSfUzU3uPM8HJR",
      "include_colab_link": true
    },
    "kernelspec": {
      "name": "python3",
      "display_name": "Python 3"
    },
    "language_info": {
      "name": "python"
    }
  },
  "cells": [
    {
      "cell_type": "markdown",
      "metadata": {
        "id": "view-in-github",
        "colab_type": "text"
      },
      "source": [
        "<a href=\"https://colab.research.google.com/github/SWASATTDAS19999/2121206057_ECE/blob/main/swasati_04_02_2023_.ipynb\" target=\"_parent\"><img src=\"https://colab.research.google.com/assets/colab-badge.svg\" alt=\"Open In Colab\"/></a>"
      ]
    },
    {
      "cell_type": "code",
      "source": [],
      "metadata": {
        "id": "POS7ytrGuQOa"
      },
      "execution_count": null,
      "outputs": []
    },
    {
      "cell_type": "code",
      "execution_count": null,
      "metadata": {
        "id": "VtOjwWfKfHI-",
        "colab": {
          "base_uri": "https://localhost:8080/"
        },
        "outputId": "c4a912d3-37f4-44a1-9fb4-8c6db7d7fbf3"
      },
      "outputs": [
        {
          "output_type": "stream",
          "name": "stdout",
          "text": [
            "a/b 2.5\n",
            "a//b= 2\n",
            "a**b= 25\n",
            "a<b= False\n",
            "a>b= True\n"
          ]
        }
      ],
      "source": [
        "#using arithmetic operators and comparision operators\n",
        "a=5\n",
        "b=2\n",
        "print('a/b',a/b)\n",
        "print('a//b=',a//b)\n",
        "print('a**b=',a**b)\n",
        "print('a<b=',a<b)\n",
        "print('a>b=',a>b)"
      ]
    },
    {
      "cell_type": "code",
      "source": [
        "#using LOGICAL OPERATOR\n",
        "a=True\n",
        "print('not A=',not a)\n",
        "b=False\n",
        "print('not B=',not b)\n"
      ],
      "metadata": {
        "colab": {
          "base_uri": "https://localhost:8080/"
        },
        "id": "3xz4ekIHvHfc",
        "outputId": "e874daaf-b2d4-48ff-bf94-75af1c797ec3"
      },
      "execution_count": null,
      "outputs": [
        {
          "output_type": "stream",
          "name": "stdout",
          "text": [
            "not A= False\n",
            "not B= True\n"
          ]
        }
      ]
    },
    {
      "cell_type": "code",
      "source": [
        "#using BITWISE OPERATOR\n",
        "a=2\n",
        "b=3\n",
        "c=a<<b\n",
        "print('a<<b=',c)"
      ],
      "metadata": {
        "colab": {
          "base_uri": "https://localhost:8080/"
        },
        "id": "WquaShtnwOt0",
        "outputId": "91c91cac-a666-468a-999f-d44ba0167ec8"
      },
      "execution_count": null,
      "outputs": [
        {
          "output_type": "stream",
          "name": "stdout",
          "text": [
            "a<<b= 16\n"
          ]
        }
      ]
    },
    {
      "cell_type": "code",
      "source": [
        "a=2\n",
        "b=3\n",
        "c=a>>b\n",
        "print('a>>b=',c)"
      ],
      "metadata": {
        "colab": {
          "base_uri": "https://localhost:8080/"
        },
        "id": "ckKWwCJWtqlS",
        "outputId": "09411bad-29a6-4bc3-8c04-4d20435122e7"
      },
      "execution_count": null,
      "outputs": [
        {
          "output_type": "stream",
          "name": "stdout",
          "text": [
            "a>>b= 0\n"
          ]
        }
      ]
    },
    {
      "cell_type": "code",
      "source": [
        "#using IDENTITY OPERATOR(is and is not)\n",
        "a=5\n",
        "b=5\n",
        "print('a is b', a is b)\n",
        "print('a is not b',a is not b)\n",
        "x='CSE'\n",
        "y='ECE'\n",
        "print('x is y',x is y)\n",
        "print('x is not y',x is not y)"
      ],
      "metadata": {
        "colab": {
          "base_uri": "https://localhost:8080/"
        },
        "id": "UutIHMkOyBCb",
        "outputId": "9c3bb413-a561-4824-9c4b-e8b8202913c7"
      },
      "execution_count": null,
      "outputs": [
        {
          "output_type": "stream",
          "name": "stdout",
          "text": [
            "a is b True\n",
            "a is not b False\n",
            "x is y False\n",
            "x is not y True\n"
          ]
        }
      ]
    },
    {
      "cell_type": "code",
      "source": [
        "#using MEMBERSHIP OPERATOR(in and not in)\n",
        "a='Hello ECE'\n",
        "print('A in a=',a in 'A')"
      ],
      "metadata": {
        "colab": {
          "base_uri": "https://localhost:8080/"
        },
        "id": "YFO60a0lz2jy",
        "outputId": "266a9895-61dc-4bdf-cdf0-c170526af824"
      },
      "execution_count": null,
      "outputs": [
        {
          "output_type": "stream",
          "name": "stdout",
          "text": [
            "A in a= False\n"
          ]
        }
      ]
    },
    {
      "cell_type": "code",
      "source": [
        "num=int(input(\"enter the number?\"))\n",
        "if num%2 == 0:\n",
        "  print(\"Number is even\")\n",
        "else:\n",
        "  print(\"Number is odd\")"
      ],
      "metadata": {
        "id": "2tscOTZN0xRg",
        "colab": {
          "base_uri": "https://localhost:8080/"
        },
        "outputId": "22d1844f-ac62-4671-e0d2-6697eb5751ed"
      },
      "execution_count": null,
      "outputs": [
        {
          "output_type": "stream",
          "name": "stdout",
          "text": [
            "enter the number?2\n",
            "Number is even\n"
          ]
        }
      ]
    },
    {
      "cell_type": "code",
      "source": [
        "#using if..elif statement\n",
        "number=int(input(\"Enter the number?\"))\n",
        "if number==10:\n",
        "  print(\"number is equals to 10\")\n",
        "elif number==50:\n",
        "               print(\"number is equals to 50\")\n",
        "elif number==100:\n",
        "  print(\"number is equals to 100\")\n",
        "else:\n",
        "  print(\"number is not equals to 10,50 or 100\")"
      ],
      "metadata": {
        "id": "cdFRQeHQ4FsE",
        "colab": {
          "base_uri": "https://localhost:8080/"
        },
        "outputId": "2dee371c-fdef-4659-e8d3-0a93fdfb87c3"
      },
      "execution_count": null,
      "outputs": [
        {
          "output_type": "stream",
          "name": "stdout",
          "text": [
            "Enter the number?50\n",
            "number is equals to 50\n"
          ]
        }
      ]
    }
  ]
}