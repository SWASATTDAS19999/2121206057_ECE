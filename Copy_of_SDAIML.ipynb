{
  "nbformat": 4,
  "nbformat_minor": 0,
  "metadata": {
    "colab": {
      "provenance": [],
      "authorship_tag": "ABX9TyOYIZOFSrLlU5qoHkXMGJCs",
      "include_colab_link": true
    },
    "kernelspec": {
      "name": "python3",
      "display_name": "Python 3"
    },
    "language_info": {
      "name": "python"
    }
  },
  "cells": [
    {
      "cell_type": "markdown",
      "metadata": {
        "id": "view-in-github",
        "colab_type": "text"
      },
      "source": [
        "<a href=\"https://colab.research.google.com/github/SWASATTDAS19999/2121206057_ECE/blob/main/Copy_of_SDAIML.ipynb\" target=\"_parent\"><img src=\"https://colab.research.google.com/assets/colab-badge.svg\" alt=\"Open In Colab\"/></a>"
      ]
    },
    {
      "cell_type": "code",
      "execution_count": null,
      "metadata": {
        "colab": {
          "base_uri": "https://localhost:8080/"
        },
        "id": "5PbckIF9oM0u",
        "outputId": "583385a1-cf49-4cd8-bae8-8a375211278c"
      },
      "outputs": [
        {
          "output_type": "stream",
          "name": "stdout",
          "text": [
            "SD\n"
          ]
        }
      ],
      "source": [
        "print(\"SD\")\n",
        "\n",
        "\n",
        "\n",
        "\n",
        "\n",
        "\n",
        "\n"
      ]
    },
    {
      "cell_type": "code",
      "source": [
        "print('HELLO swasati')"
      ],
      "metadata": {
        "colab": {
          "base_uri": "https://localhost:8080/"
        },
        "id": "qULvA7UEpxco",
        "outputId": "a9acae53-fffe-487c-a818-767c686cf5bc"
      },
      "execution_count": null,
      "outputs": [
        {
          "output_type": "stream",
          "name": "stdout",
          "text": [
            "HELLO swasati\n"
          ]
        }
      ]
    },
    {
      "cell_type": "code",
      "source": [
        "#print('HELLO ABIT', end=\" \")\n",
        "print('DEPT. of ece')"
      ],
      "metadata": {
        "colab": {
          "base_uri": "https://localhost:8080/"
        },
        "id": "TDY0s5EQrHgr",
        "outputId": "a785c8c9-4605-43c4-fec0-2cfdf9002f1a"
      },
      "execution_count": null,
      "outputs": [
        {
          "output_type": "stream",
          "name": "stdout",
          "text": [
            "DEPT. of ece\n"
          ]
        }
      ]
    },
    {
      "cell_type": "code",
      "source": [
        "# using of sep='' in print().\n",
        "a=7\n",
        "b=1\n",
        "c=2023\n",
        "print(a,b,c, sep='/')"
      ],
      "metadata": {
        "colab": {
          "base_uri": "https://localhost:8080/"
        },
        "id": "-pKMT86PrSm0",
        "outputId": "9673320c-7fa2-4185-97ac-f346f14cf7e1"
      },
      "execution_count": null,
      "outputs": [
        {
          "output_type": "stream",
          "name": "stdout",
          "text": [
            "7/1/2023\n"
          ]
        }
      ]
    },
    {
      "cell_type": "code",
      "source": [
        "X=0b10100 \n",
        "Y=100\n",
        "Z=0o215\n",
        "U=0x12d\n",
        "float_1 =100.5\n",
        "float_2 =1.5e2\n",
        "a =5+3.14j\n",
        "print(X,Y,U,Z)\n",
        "print(float_1, float_2)\n",
        "print(a, a.imag, a.real)"
      ],
      "metadata": {
        "colab": {
          "base_uri": "https://localhost:8080/"
        },
        "id": "-GV7mmiSuUVx",
        "outputId": "87ce808c-f2f0-4421-840c-d592813fd1cd"
      },
      "execution_count": 1,
      "outputs": [
        {
          "output_type": "stream",
          "name": "stdout",
          "text": [
            "20 100 301 141\n",
            "100.5 150.0\n",
            "(5+3.14j) 3.14 5.0\n"
          ]
        }
      ]
    },
    {
      "cell_type": "code",
      "source": [
        "a=23+5j\n",
        "b=2+5.12j\n",
        "c=a+b\n",
        "print(c)"
      ],
      "metadata": {
        "colab": {
          "base_uri": "https://localhost:8080/"
        },
        "id": "OGA2LCU5xENk",
        "outputId": "839676c2-f6fb-42be-fb32-58b7cb0c7eb3"
      },
      "execution_count": 2,
      "outputs": [
        {
          "output_type": "stream",
          "name": "stdout",
          "text": [
            "(25+10.120000000000001j)\n"
          ]
        }
      ]
    },
    {
      "cell_type": "code",
      "source": [
        "a=int(input('Enter 1st no ='))\n",
        "b=int(input('Enter 2nd no ='))\n",
        "c=a+b\n",
        "print('c =',c)"
      ],
      "metadata": {
        "colab": {
          "base_uri": "https://localhost:8080/"
        },
        "id": "GfIGiZ1gxufF",
        "outputId": "bd7b4fd3-4b41-45a9-b0f7-974b0b3a9d4c"
      },
      "execution_count": 4,
      "outputs": [
        {
          "output_type": "stream",
          "name": "stdout",
          "text": [
            "Enter 1st no =12\n",
            "Enter 2nd no =13\n",
            "c = 25\n"
          ]
        }
      ]
    },
    {
      "cell_type": "code",
      "source": [
        "# using of /, // and ** in arithmatic operator\n",
        "a=2\n",
        "b=4\n",
        "c=a/b\n",
        "print(c)\n",
        "d=a//b\n",
        "print(d)\n",
        "e=a**b\n",
        "print(e)"
      ],
      "metadata": {
        "colab": {
          "base_uri": "https://localhost:8080/"
        },
        "id": "pEr7VAbVz8XI",
        "outputId": "654b54b2-6d8e-43e2-ad8e-76f5e3e26818"
      },
      "execution_count": 6,
      "outputs": [
        {
          "output_type": "stream",
          "name": "stdout",
          "text": [
            "0.5\n",
            "0\n",
            "16\n"
          ]
        }
      ]
    },
    {
      "cell_type": "code",
      "source": [],
      "metadata": {
        "id": "NlzzshX9y-Ho"
      },
      "execution_count": null,
      "outputs": []
    },
    {
      "cell_type": "code",
      "source": [
        " "
      ],
      "metadata": {
        "id": "y0WOGg2jvZOh"
      },
      "execution_count": null,
      "outputs": []
    }
  ]
}